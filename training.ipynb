{
  "cells": [
    {
      "cell_type": "code",
      "execution_count": null,
      "metadata": {
        "id": "Ka-6U5zHLL8X"
      },
      "outputs": [],
      "source": [
        "from google.colab import drive\n",
        "drive.mount('/content/drive')"
      ]
    },
    {
      "cell_type": "code",
      "execution_count": null,
      "metadata": {
        "id": "S533ZoV_Ldp5"
      },
      "outputs": [],
      "source": [
        "import zipfile\n",
        "import os\n",
        "import cv2   \n",
        "import csv"
      ]
    },
    {
      "cell_type": "code",
      "execution_count": null,
      "metadata": {
        "id": "rcnmQnhZLds3"
      },
      "outputs": [],
      "source": [
        "zip_ref = zipfile.ZipFile('/content/drive/MyDrive/train2.zip', 'r') #Opens the zip file in read mode\n",
        "zip_ref.extractall('/tmp') #Extracts the files into the /tmp folder\n",
        "zip_ref.close()"
      ]
    },
    {
      "cell_type": "code",
      "execution_count": null,
      "metadata": {
        "id": "fJw8iySa2A1Y"
      },
      "outputs": [],
      "source": [
        "zip_ref = zipfile.ZipFile('/content/drive/MyDrive/train3.zip', 'r') #Opens the zip file in read mode\n",
        "zip_ref.extractall('/tmp') #Extracts the files into the /tmp folder\n",
        "zip_ref.close()"
      ]
    },
    {
      "cell_type": "code",
      "execution_count": null,
      "metadata": {
        "colab": {
          "base_uri": "https://localhost:8080/"
        },
        "id": "5eGGPZAXLdwb",
        "outputId": "16b73787-e62e-4c3b-bbf0-8e3636590164"
      },
      "outputs": [
        {
          "output_type": "stream",
          "name": "stdout",
          "text": [
            "61 910 13266 15948\n"
          ]
        }
      ],
      "source": [
        "temp = {}\n",
        "c1, c2, c3, c4 = 0, 0, 0, 0\n",
        "with open('/content/drive/MyDrive/AllLabels.csv', newline = '') as f:\n",
        "  rd = csv.DictReader(f)\n",
        "  for row in rd:\n",
        "    filename, file_extension = os.path.splitext(row['ClipID'])\n",
        "    if row['Engagement']=='0':\n",
        "      c1+=1\n",
        "      temp[filename]='0'\n",
        "    elif row['Engagement']=='1':\n",
        "      c2+=2\n",
        "      temp[filename]='0'\n",
        "    elif row['Engagement']=='2':\n",
        "      c3+=3\n",
        "      temp[filename]='1'\n",
        "    elif row['Engagement']=='3':\n",
        "      c4+=4\n",
        "      temp[filename]='2'\n",
        "print(c1, c2, c3, c4)"
      ]
    },
    {
      "cell_type": "code",
      "execution_count": null,
      "metadata": {
        "id": "rLHGLE7oLdzg"
      },
      "outputs": [],
      "source": [
        "pth = os.path.join('/tmp', 'train3')\n",
        "print(pth)\n",
        "labels = []\n",
        "image_list = []\n",
        "count = 0\n",
        "\n",
        "user_list = os.listdir(pth)\n",
        "for user in user_list:\n",
        "  u_path = os.path.join(pth, user)\n",
        "  user_clips = os.listdir(u_path)\n",
        "  for clip in user_clips:\n",
        "    clip_path = os.path.join(u_path, clip)\n",
        "    images = os.listdir(clip_path)\n",
        "    for i in images:\n",
        "      img_path = os.path.join(clip_path, i)\n",
        "      image =  cv2.imread(img_path)\n",
        "      count+=1\n",
        "      if  clip in temp:\n",
        "        if image.shape == (48, 48, 3) and count%2==0:\n",
        "          image.reshape(1, 48, 48, 3)\n",
        "          image_list.append(image)\n",
        "          labels.append(temp[clip])\n",
        "  print(user + \"Done\")"
      ]
    },
    {
      "cell_type": "code",
      "execution_count": null,
      "metadata": {
        "id": "bQakAfsAVpfG"
      },
      "outputs": [],
      "source": [
        "pth = os.path.join('/tmp', 'train2')\n",
        "print(pth)\n",
        "# labels = []\n",
        "# image_list = []\n",
        "count = 0\n",
        "\n",
        "user_list = os.listdir(pth)\n",
        "for user in user_list:\n",
        "  u_path = os.path.join(pth, user)\n",
        "  user_clips = os.listdir(u_path)\n",
        "  for clip in user_clips:\n",
        "    clip_path = os.path.join(u_path, clip)\n",
        "    images = os.listdir(clip_path)\n",
        "    for i in images:\n",
        "      img_path = os.path.join(clip_path, i)\n",
        "      image =  cv2.imread(img_path)\n",
        "      count+=1\n",
        "      if clip in temp:\n",
        "        if image.shape == (48, 48, 3) and count%2==0:\n",
        "          image.reshape(1, 48, 48, 3)\n",
        "          image_list.append(image)\n",
        "          labels.append(temp[clip])\n",
        "  print(user + \"Done\")"
      ]
    },
    {
      "cell_type": "code",
      "execution_count": null,
      "metadata": {
        "id": "vWpLoST0Ld2t"
      },
      "outputs": [],
      "source": [
        "import sys                         \n",
        "import numpy as np\n",
        "import tensorflow as tf"
      ]
    },
    {
      "cell_type": "code",
      "execution_count": null,
      "metadata": {
        "id": "1Si9LyvFjc4O"
      },
      "outputs": [],
      "source": [
        "image_list = np.array(image_list)"
      ]
    },
    {
      "cell_type": "code",
      "execution_count": null,
      "metadata": {
        "id": "y_VfN8P1Ld5e"
      },
      "outputs": [],
      "source": [
        "count = 0\n",
        "for i in image_list:\n",
        "  if i.shape == (48,48,3):\n",
        "    count+=1\n",
        "print(count)\n",
        "print(type(image_list))"
      ]
    },
    {
      "cell_type": "code",
      "execution_count": null,
      "metadata": {
        "id": "md2aJuQ-owyM"
      },
      "outputs": [],
      "source": [
        "labels = np.array(labels)"
      ]
    },
    {
      "cell_type": "code",
      "execution_count": null,
      "metadata": {
        "id": "wrDvaH8Ro6B2"
      },
      "outputs": [],
      "source": [
        "opt = tf.keras.optimizers.Adam()"
      ]
    },
    {
      "cell_type": "code",
      "execution_count": null,
      "metadata": {
        "id": "fIZc1b4dLd87"
      },
      "outputs": [],
      "source": [
        "def get_model():\n",
        "  model = tf.keras.models.Sequential([\n",
        "    tf.keras.layers.Conv2D(192, (3,3), input_shape = (48,48,3)),\n",
        "    tf.keras.layers.BatchNormalization(),\n",
        "    tf.keras.layers.Activation(\"relu\"),\n",
        "    tf.keras.layers.Conv2D(192, (1,1), activation = \"relu\"),\n",
        "\n",
        "    tf.keras.layers.Conv2D(192, (3,3), strides = (2,2)),\n",
        "    tf.keras.layers.BatchNormalization(),\n",
        "    tf.keras.layers.Activation(\"relu\"),\n",
        "    tf.keras.layers.Dropout(0.5),\n",
        "\n",
        "    tf.keras.layers.Conv2D(96, (3,3)),\n",
        "    tf.keras.layers.BatchNormalization(),\n",
        "    tf.keras.layers.Activation(\"relu\"),\n",
        "    tf.keras.layers.Conv2D(96, (1,1), activation = \"relu\"),\n",
        "    tf.keras.layers.Conv2D(96, (1,1), activation = \"relu\"),\n",
        "\n",
        "    tf.keras.layers.MaxPooling2D(pool_size=(3, 3), strides=(2, 2)),\n",
        "    tf.keras.layers.Dropout(0.5),\n",
        "\n",
        "    tf.keras.layers.Conv2D(32, (3,3)),\n",
        "    tf.keras.layers.BatchNormalization(),\n",
        "    tf.keras.layers.Activation(\"relu\"),\n",
        "    tf.keras.layers.Conv2D(32, (3,3)),\n",
        "    tf.keras.layers.BatchNormalization(),\n",
        "    tf.keras.layers.Activation(\"relu\"),\n",
        "    tf.keras.layers.Conv2D(32, (3,3)),\n",
        "    tf.keras.layers.BatchNormalization(),            \n",
        "    tf.keras.layers.Activation(\"relu\"),\n",
        "\n",
        "    tf.keras.layers.Conv2D(3, (1,1)),\n",
        "    tf.keras.layers.GlobalAveragePooling2D(),\n",
        "    tf.keras.layers.Dense(3, activation=\"softmax\")\n",
        "\n",
        "  ])                                                         \n",
        "\n",
        "  model.compile(\n",
        "        optimizer=opt,\n",
        "        loss=\"categorical_crossentropy\",                                               \n",
        "        metrics=[\"accuracy\"]\n",
        "    )\n",
        "  \n",
        "  return model\n",
        "\n"
      ]
    },
    {
      "cell_type": "code",
      "execution_count": null,
      "metadata": {
        "id": "HZmjnH37N4aw"
      },
      "outputs": [],
      "source": [
        "model = get_model()"
      ]
    },
    {
      "cell_type": "code",
      "execution_count": null,
      "metadata": {
        "id": "h4hZfMX-rR6i"
      },
      "outputs": [],
      "source": [
        "labels = tf.keras.utils.to_categorical(labels)"
      ]
    },
    {
      "cell_type": "code",
      "execution_count": null,
      "metadata": {
        "id": "5xvOmX3PQ7et"
      },
      "outputs": [],
      "source": [
        "p = np.random.permutation(len(labels))"
      ]
    },
    {
      "cell_type": "code",
      "execution_count": null,
      "metadata": {
        "id": "cIZ5txmeRJFY"
      },
      "outputs": [],
      "source": [
        "image_list = image_list[p]\n",
        "labels = labels[p]"
      ]
    },
    {
      "cell_type": "code",
      "execution_count": null,
      "metadata": {
        "colab": {
          "base_uri": "https://localhost:8080/"
        },
        "id": "aESHvue5ODAe",
        "outputId": "479e6eab-d5f4-43c8-83c4-2d354cccf1c0"
      },
      "outputs": [
        {
          "output_type": "stream",
          "name": "stdout",
          "text": [
            "Epoch 1/40\n",
            "6793/6793 [==============================] - 349s 50ms/step - loss: 0.7553 - accuracy: 0.6189 - val_loss: 0.7096 - val_accuracy: 0.6469\n",
            "Epoch 2/40\n",
            "6793/6793 [==============================] - 338s 50ms/step - loss: 0.6927 - accuracy: 0.6586 - val_loss: 0.6559 - val_accuracy: 0.6811\n",
            "Epoch 3/40\n",
            "6793/6793 [==============================] - 337s 50ms/step - loss: 0.6561 - accuracy: 0.6808 - val_loss: 0.6203 - val_accuracy: 0.6971\n",
            "Epoch 4/40\n",
            "6793/6793 [==============================] - 336s 49ms/step - loss: 0.6309 - accuracy: 0.6955 - val_loss: 0.5844 - val_accuracy: 0.7207\n",
            "Epoch 5/40\n",
            "6793/6793 [==============================] - 336s 49ms/step - loss: 0.6097 - accuracy: 0.7069 - val_loss: 0.5635 - val_accuracy: 0.7309\n",
            "Epoch 6/40\n",
            "6793/6793 [==============================] - 336s 49ms/step - loss: 0.5944 - accuracy: 0.7168 - val_loss: 0.5497 - val_accuracy: 0.7429\n",
            "Epoch 7/40\n",
            "6793/6793 [==============================] - 336s 50ms/step - loss: 0.5812 - accuracy: 0.7229 - val_loss: 0.5886 - val_accuracy: 0.7166\n",
            "Epoch 8/40\n",
            "6793/6793 [==============================] - 336s 50ms/step - loss: 0.5700 - accuracy: 0.7308 - val_loss: 0.5195 - val_accuracy: 0.7571\n",
            "Epoch 9/40\n",
            "6793/6793 [==============================] - 336s 50ms/step - loss: 0.5608 - accuracy: 0.7357 - val_loss: 0.4974 - val_accuracy: 0.7705\n",
            "Epoch 10/40\n",
            "6793/6793 [==============================] - 337s 50ms/step - loss: 0.5523 - accuracy: 0.7403 - val_loss: 0.4949 - val_accuracy: 0.7738\n",
            "Epoch 11/40\n",
            "6793/6793 [==============================] - 337s 50ms/step - loss: 0.5438 - accuracy: 0.7446 - val_loss: 0.4832 - val_accuracy: 0.7792\n",
            "Epoch 12/40\n",
            "6793/6793 [==============================] - 336s 49ms/step - loss: 0.5374 - accuracy: 0.7490 - val_loss: 0.4754 - val_accuracy: 0.7834\n",
            "Epoch 13/40\n",
            "6793/6793 [==============================] - 336s 49ms/step - loss: 0.5295 - accuracy: 0.7529 - val_loss: 0.4665 - val_accuracy: 0.7867\n",
            "Epoch 14/40\n",
            "6793/6793 [==============================] - 335s 49ms/step - loss: 0.5241 - accuracy: 0.7566 - val_loss: 0.4628 - val_accuracy: 0.7889\n",
            "Epoch 15/40\n",
            "6793/6793 [==============================] - 336s 49ms/step - loss: 0.5178 - accuracy: 0.7599 - val_loss: 0.4671 - val_accuracy: 0.7862\n",
            "Epoch 16/40\n",
            "6793/6793 [==============================] - 336s 50ms/step - loss: 0.5137 - accuracy: 0.7628 - val_loss: 0.4482 - val_accuracy: 0.7991\n",
            "Epoch 17/40\n",
            "6793/6793 [==============================] - 336s 49ms/step - loss: 0.5092 - accuracy: 0.7654 - val_loss: 0.4414 - val_accuracy: 0.8020\n",
            "Epoch 18/40\n",
            "6793/6793 [==============================] - 336s 49ms/step - loss: 0.5036 - accuracy: 0.7683 - val_loss: 0.4527 - val_accuracy: 0.7962\n",
            "Epoch 19/40\n",
            "6793/6793 [==============================] - 336s 49ms/step - loss: 0.4992 - accuracy: 0.7708 - val_loss: 0.4304 - val_accuracy: 0.8088\n",
            "Epoch 20/40\n",
            "6793/6793 [==============================] - 336s 50ms/step - loss: 0.4959 - accuracy: 0.7721 - val_loss: 0.4350 - val_accuracy: 0.8052\n",
            "Epoch 21/40\n",
            "6793/6793 [==============================] - 336s 49ms/step - loss: 0.4913 - accuracy: 0.7751 - val_loss: 0.4373 - val_accuracy: 0.8060\n",
            "Epoch 22/40\n",
            "6793/6793 [==============================] - 336s 50ms/step - loss: 0.4878 - accuracy: 0.7763 - val_loss: 0.4188 - val_accuracy: 0.8145\n",
            "Epoch 23/40\n",
            "6793/6793 [==============================] - 336s 50ms/step - loss: 0.4851 - accuracy: 0.7784 - val_loss: 0.4280 - val_accuracy: 0.8066\n",
            "Epoch 24/40\n",
            "6793/6793 [==============================] - 336s 50ms/step - loss: 0.4813 - accuracy: 0.7805 - val_loss: 0.4182 - val_accuracy: 0.8131\n",
            "Epoch 25/40\n",
            "6793/6793 [==============================] - 336s 49ms/step - loss: 0.4781 - accuracy: 0.7825 - val_loss: 0.4111 - val_accuracy: 0.8188\n",
            "Epoch 26/40\n",
            "6793/6793 [==============================] - 337s 50ms/step - loss: 0.4758 - accuracy: 0.7842 - val_loss: 0.4128 - val_accuracy: 0.8174\n",
            "Epoch 27/40\n",
            "6793/6793 [==============================] - 338s 50ms/step - loss: 0.4722 - accuracy: 0.7857 - val_loss: 0.4042 - val_accuracy: 0.8209\n",
            "Epoch 28/40\n",
            "6793/6793 [==============================] - 336s 50ms/step - loss: 0.4691 - accuracy: 0.7877 - val_loss: 0.4057 - val_accuracy: 0.8201\n",
            "Epoch 29/40\n",
            "6793/6793 [==============================] - 338s 50ms/step - loss: 0.4671 - accuracy: 0.7891 - val_loss: 0.3953 - val_accuracy: 0.8273\n",
            "Epoch 30/40\n",
            "6793/6793 [==============================] - 336s 49ms/step - loss: 0.4645 - accuracy: 0.7896 - val_loss: 0.4049 - val_accuracy: 0.8212\n",
            "Epoch 31/40\n",
            "6793/6793 [==============================] - 336s 50ms/step - loss: 0.4614 - accuracy: 0.7913 - val_loss: 0.3995 - val_accuracy: 0.8247\n",
            "Epoch 32/40\n",
            "6793/6793 [==============================] - 337s 50ms/step - loss: 0.4600 - accuracy: 0.7925 - val_loss: 0.3859 - val_accuracy: 0.8318\n",
            "Epoch 33/40\n",
            "6793/6793 [==============================] - 335s 49ms/step - loss: 0.4559 - accuracy: 0.7943 - val_loss: 0.3923 - val_accuracy: 0.8276\n",
            "Epoch 34/40\n",
            "6793/6793 [==============================] - 332s 49ms/step - loss: 0.4544 - accuracy: 0.7954 - val_loss: 0.3992 - val_accuracy: 0.8244\n",
            "Epoch 35/40\n",
            "6793/6793 [==============================] - 333s 49ms/step - loss: 0.4512 - accuracy: 0.7976 - val_loss: 0.3952 - val_accuracy: 0.8267\n",
            "Epoch 36/40\n",
            "6793/6793 [==============================] - 332s 49ms/step - loss: 0.4496 - accuracy: 0.7980 - val_loss: 0.3890 - val_accuracy: 0.8326\n",
            "Epoch 37/40\n",
            "6793/6793 [==============================] - 334s 49ms/step - loss: 0.4480 - accuracy: 0.7983 - val_loss: 0.4010 - val_accuracy: 0.8232\n",
            "Epoch 38/40\n",
            "6793/6793 [==============================] - 332s 49ms/step - loss: 0.4457 - accuracy: 0.7998 - val_loss: 0.3753 - val_accuracy: 0.8391\n",
            "Epoch 39/40\n",
            "6793/6793 [==============================] - 332s 49ms/step - loss: 0.4435 - accuracy: 0.8019 - val_loss: 0.3802 - val_accuracy: 0.8360\n",
            "Epoch 40/40\n",
            "6793/6793 [==============================] - 332s 49ms/step - loss: 0.4432 - accuracy: 0.8018 - val_loss: 0.3851 - val_accuracy: 0.8300\n"
          ]
        }
      ],
      "source": [
        "history = model.fit(image_list, labels, batch_size=50, epochs=40, validation_split = 0.08)"
      ]
    },
    {
      "cell_type": "code",
      "execution_count": null,
      "metadata": {
        "id": "yneAhrzLLm5x"
      },
      "outputs": [],
      "source": [
        "model.save('my_model13.h5')\n",
        "model.save_weights('my_model_weights13.h5')"
      ]
    },
    {
      "cell_type": "code",
      "source": [
        "from matplotlib import pyplot as plt\n",
        "plt.plot(history.history['accuracy'])\n",
        "plt.plot(history.history['val_accuracy'])\n",
        "plt.title('model accuracy')\n",
        "plt.ylabel('accuracy')\n",
        "plt.xlabel('epoch')\n",
        "plt.legend(['train', 'val'], loc='upper left')\n",
        "plt.show()"
      ],
      "metadata": {
        "colab": {
          "base_uri": "https://localhost:8080/",
          "height": 295
        },
        "id": "G76d_xHOWMOa",
        "outputId": "e12c71d9-ab2f-415e-efda-e97f5c0e128d"
      },
      "execution_count": null,
      "outputs": [
        {
          "output_type": "display_data",
          "data": {
            "image/png": "[encoded data removed]",
            "text/plain": [
              "<Figure size 432x288 with 1 Axes>"
            ]
          },
          "metadata": {
            "needs_background": "light"
          }
        }
      ]
    },
    {
      "cell_type": "code",
      "execution_count": null,
      "metadata": {
        "colab": {
          "base_uri": "https://localhost:8080/",
          "height": 295
        },
        "id": "NKPe4D8hOpeR",
        "outputId": "d98dbf29-833c-43c2-ff25-70450de4075d"
      },
      "outputs": [
        {
          "output_type": "display_data",
          "data": {
            "image/png": "[encoded data removed]",
            "text/plain": [
              "<Figure size 432x288 with 1 Axes>"
            ]
          },
          "metadata": {
            "needs_background": "light"
          }
        }
      ],
      "source": [
        "plt.plot(history.history['loss'])\n",
        "plt.plot(history.history['val_loss'])\n",
        "plt.title('model loss')\n",
        "plt.ylabel('loss')\n",
        "plt.xlabel('epoch')\n",
        "plt.legend(['train', 'val'], loc='upper left')\n",
        "plt.show()"
      ]
    }
  ],
  "metadata": {
    "accelerator": "GPU",
    "colab": {
      "collapsed_sections": [],
      "name": "final_prototype (1).ipynb",
      "provenance": []
    },
    "kernelspec": {
      "display_name": "Python 3",
      "name": "python3"
    },
    "language_info": {
      "name": "python"
    }
  },
  "nbformat": 4,
  "nbformat_minor": 0
}